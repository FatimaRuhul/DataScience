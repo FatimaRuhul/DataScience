{
 "cells": [
  {
   "cell_type": "code",
   "execution_count": 1,
   "metadata": {},
   "outputs": [
    {
     "name": "stdout",
     "output_type": "stream",
     "text": [
      "Customers Data:\n",
      "   CustomerID        CustomerName         Region SignupDate\n",
      "0      C0001    Lawrence Carroll  South America 2022-07-10\n",
      "1      C0002      Elizabeth Lutz           Asia 2022-02-13\n",
      "2      C0003      Michael Rivera  South America 2024-03-07\n",
      "3      C0004  Kathleen Rodriguez  South America 2022-10-09\n",
      "4      C0005         Laura Weber           Asia 2022-08-15 \n",
      "\n",
      "Products Data:\n",
      "   ProductID              ProductName     Category   Price\n",
      "0      P001     ActiveWear Biography        Books  169.30\n",
      "1      P002    ActiveWear Smartwatch  Electronics  346.30\n",
      "2      P003  ComfortLiving Biography        Books   44.12\n",
      "3      P004            BookWorld Rug   Home Decor   95.69\n",
      "4      P005          TechPro T-Shirt     Clothing  429.31 \n",
      "\n",
      "Transactions Data:\n",
      "   TransactionID CustomerID ProductID     TransactionDate  Quantity  \\\n",
      "0        T00001      C0199      P067 2024-08-25 12:38:23         1   \n",
      "1        T00112      C0146      P067 2024-05-27 22:23:54         1   \n",
      "2        T00166      C0127      P067 2024-04-25 07:38:55         1   \n",
      "3        T00272      C0087      P067 2024-03-26 22:55:37         2   \n",
      "4        T00363      C0070      P067 2024-03-21 15:10:10         3   \n",
      "\n",
      "   TotalValue   Price  \n",
      "0      300.68  300.68  \n",
      "1      300.68  300.68  \n",
      "2      300.68  300.68  \n",
      "3      601.36  300.68  \n",
      "4      902.04  300.68  \n"
     ]
    }
   ],
   "source": [
    "import pandas as pd\n",
    "\n",
    "customers = pd.read_csv(\"Customers.csv\")  \n",
    "products = pd.read_csv(\"Products.csv\")  \n",
    "transactions = pd.read_csv(\"Transactions.csv\")  \n",
    "\n",
    "customers['SignupDate'] = pd.to_datetime(customers['SignupDate'])  \n",
    "transactions['TransactionDate'] = pd.to_datetime(transactions['TransactionDate'])  \n",
    "\n",
    "print(\"Customers Data:\\n\", customers.head(), \"\\n\")  \n",
    "print(\"Products Data:\\n\", products.head(), \"\\n\")  \n",
    "print(\"Transactions Data:\\n\", transactions.head())\n",
    "\n"
   ]
  },
  {
   "cell_type": "code",
   "execution_count": 2,
   "metadata": {},
   "outputs": [
    {
     "name": "stdout",
     "output_type": "stream",
     "text": [
      "Missing values in Transactions: 0\n",
      "Missing values in Customers: 0\n",
      "Missing values in Products: 0\n"
     ]
    }
   ],
   "source": [
    "print(\"Missing values in Transactions:\", transactions.isnull().sum().sum())  \n",
    "print(\"Missing values in Customers:\", customers.isnull().sum().sum())  \n",
    "print(\"Missing values in Products:\", products.isnull().sum().sum())"
   ]
  },
  {
   "cell_type": "code",
   "execution_count": 3,
   "metadata": {},
   "outputs": [
    {
     "name": "stdout",
     "output_type": "stream",
     "text": [
      "ProductID   P001  P002  P003  P004  P005  P006  P007  P008  P009  P010  ...  \\\n",
      "CustomerID                                                              ...   \n",
      "C0001        0.0   0.0   0.0   0.0   0.0   0.0   0.0   0.0   0.0   0.0  ...   \n",
      "C0002        0.0   0.0   0.0   4.0   0.0   0.0   0.0   0.0   0.0   0.0  ...   \n",
      "C0003        0.0   4.0   0.0   0.0   0.0   3.0   0.0   0.0   0.0   0.0  ...   \n",
      "C0004        0.0   0.0   0.0   0.0   0.0   0.0   0.0   2.0   0.0   0.0  ...   \n",
      "C0005        0.0   0.0   0.0   0.0   0.0   0.0   0.0   0.0   0.0   0.0  ...   \n",
      "\n",
      "ProductID   P091  P092  P093  P094  P095  P096  P097  P098  P099  P100  \n",
      "CustomerID                                                              \n",
      "C0001        0.0   0.0   0.0   0.0   0.0   2.0   0.0   0.0   0.0   0.0  \n",
      "C0002        0.0   0.0   0.0   0.0   2.0   0.0   0.0   0.0   0.0   0.0  \n",
      "C0003        0.0   0.0   0.0   0.0   0.0   0.0   0.0   0.0   0.0   0.0  \n",
      "C0004        0.0   0.0   0.0   0.0   0.0   0.0   3.0   0.0   0.0   0.0  \n",
      "C0005        0.0   0.0   0.0   0.0   0.0   0.0   0.0   0.0   0.0   0.0  \n",
      "\n",
      "[5 rows x 100 columns]\n"
     ]
    }
   ],
   "source": [
    "import pandas as pd\n",
    "\n",
    "customers = pd.read_csv(\"Customers.csv\")\n",
    "transactions = pd.read_csv(\"Transactions.csv\")\n",
    "\n",
    "customer_features = transactions.pivot_table(index=\"CustomerID\", columns=\"ProductID\", values=\"Quantity\", fill_value=0)\n",
    "\n",
    "print(customer_features.head())\n"
   ]
  },
  {
   "cell_type": "code",
   "execution_count": 4,
   "metadata": {},
   "outputs": [
    {
     "name": "stdout",
     "output_type": "stream",
     "text": [
      "CustomerID  C0001  C0002     C0003     C0004     C0005  C0006     C0007  \\\n",
      "CustomerID                                                                \n",
      "C0001         1.0    0.0  0.000000  0.000000  0.000000    0.0  0.214834   \n",
      "C0002         0.0    1.0  0.000000  0.000000  0.000000    0.0  0.000000   \n",
      "C0003         0.0    0.0  1.000000  0.097980  0.308697    0.0  0.000000   \n",
      "C0004         0.0    0.0  0.097980  1.000000  0.168034    0.0  0.000000   \n",
      "C0005         0.0    0.0  0.308697  0.168034  1.000000    0.0  0.000000   \n",
      "\n",
      "CustomerID     C0008  C0009     C0010  ...     C0191     C0192  C0193  \\\n",
      "CustomerID                             ...                              \n",
      "C0001       0.000000    0.0  0.000000  ...  0.061721  0.000000    0.0   \n",
      "C0002       0.262071    0.0  0.000000  ...  0.000000  0.000000    0.0   \n",
      "C0003       0.313786    0.0  0.000000  ...  0.000000  0.000000    0.0   \n",
      "C0004       0.048038    0.0  0.149854  ...  0.000000  0.000000    0.0   \n",
      "C0005       0.000000    0.0  0.000000  ...  0.000000  0.325396    0.0   \n",
      "\n",
      "CustomerID     C0194  C0195  C0196  C0197  C0198     C0199  C0200  \n",
      "CustomerID                                                         \n",
      "C0001       0.469668    0.0    0.0    0.0    0.0  0.438178    0.0  \n",
      "C0002       0.000000    0.0    0.0    0.0    0.0  0.000000    0.0  \n",
      "C0003       0.000000    0.0    0.0    0.0    0.0  0.000000    0.0  \n",
      "C0004       0.079212    0.0    0.0    0.0    0.0  0.092376    0.0  \n",
      "C0005       0.083189    0.0    0.0    0.0    0.0  0.000000    0.0  \n",
      "\n",
      "[5 rows x 199 columns]\n"
     ]
    }
   ],
   "source": [
    "from sklearn.metrics.pairwise import cosine_similarity\n",
    "\n",
    "similarity_matrix = cosine_similarity(customer_features)\n",
    "\n",
    "similarity_df = pd.DataFrame(similarity_matrix, index=customer_features.index, columns=customer_features.index)\n",
    "\n",
    "print(similarity_df.head())\n"
   ]
  },
  {
   "cell_type": "code",
   "execution_count": 5,
   "metadata": {},
   "outputs": [
    {
     "name": "stdout",
     "output_type": "stream",
     "text": [
      "Customer C0001 is similar to: [('C0097', 0.5477225575051661), ('C0194', 0.469668218313862), ('C0199', 0.4381780460041329)]\n",
      "Customer C0002 is similar to: [('C0091', 0.3801987652174059), ('C0030', 0.37282185960072), ('C0071', 0.329914439536929)]\n",
      "Customer C0003 is similar to: [('C0134', 0.5199469468957452), ('C0181', 0.5175973113765044), ('C0144', 0.39999999999999997)]\n",
      "Customer C0004 is similar to: [('C0070', 0.4988876515698588), ('C0132', 0.3843075691322091), ('C0063', 0.3360672201667223)]\n",
      "Customer C0005 is similar to: [('C0096', 0.6482037235521645), ('C0055', 0.5144957554275265), ('C0064', 0.3328770246548891)]\n",
      "Customer C0006 is similar to: [('C0058', 0.6488856845230502), ('C0040', 0.5803810000880093), ('C0196', 0.4643048000704075)]\n",
      "Customer C0007 is similar to: [('C0020', 0.5883484054145521), ('C0079', 0.49613893835683387), ('C0026', 0.36313651960128146)]\n",
      "Customer C0008 is similar to: [('C0144', 0.39223227027636803), ('C0088', 0.33968311024337877), ('C0165', 0.32144907266094414)]\n",
      "Customer C0009 is similar to: [('C0140', 0.560112033611204), ('C0162', 0.5132649025747366), ('C0129', 0.428845013935118)]\n",
      "Customer C0010 is similar to: [('C0033', 0.48666426339228763), ('C0077', 0.42479539524287324), ('C0094', 0.40590605489504306)]\n",
      "Customer C0011 is similar to: [('C0135', 0.4841820261350419), ('C0120', 0.3568206200700315), ('C0173', 0.3307592922378892)]\n",
      "Customer C0012 is similar to: [('C0101', 0.4437601569801833), ('C0066', 0.39615005477771065), ('C0052', 0.36706517419289875)]\n",
      "Customer C0013 is similar to: [('C0058', 0.5345224838248488), ('C0040', 0.47809144373375745), ('C0169', 0.4409585518440985)]\n",
      "Customer C0014 is similar to: [('C0128', 0.8944271909999159), ('C0159', 0.7844645405527362), ('C0136', 0.46188021535170054)]\n",
      "Customer C0015 is similar to: [('C0073', 0.6324555320336758), ('C0036', 0.6067798762169179), ('C0059', 0.45683219257612856)]\n",
      "Customer C0016 is similar to: [('C0187', 0.6449020216370241), ('C0052', 0.5202659817144719), ('C0064', 0.4611123341633879)]\n",
      "Customer C0017 is similar to: [('C0037', 0.3988620176087328), ('C0071', 0.38490017945975047), ('C0183', 0.34570865256115424)]\n",
      "Customer C0018 is similar to: [('C0177', 0.3938927711338647), ('C0064', 0.35665425149468194), ('C0081', 0.35032452487268534)]\n",
      "Customer C0019 is similar to: [('C0083', 0.48989794855663565), ('C0064', 0.4879954250643349), ('C0039', 0.46475800154489)]\n",
      "Customer C0020 is similar to: [('C0026', 0.6172133998483676), ('C0007', 0.5883484054145521), ('C0104', 0.4886777774252209)]\n"
     ]
    }
   ],
   "source": [
    "def get_top_3_lookalikes(customer_id):\n",
    "    similar_customers = similarity_df[customer_id].sort_values(ascending=False).iloc[1:4]\n",
    "    return list(zip(similar_customers.index, similar_customers.values))\n",
    "\n",
    "lookalike_results = {cust_id: get_top_3_lookalikes(cust_id) for cust_id in customers['CustomerID'].head(20)}\n",
    "\n",
    "for customer, lookalikes in lookalike_results.items():\n",
    "    print(f\"Customer {customer} is similar to:\", lookalikes)\n"
   ]
  },
  {
   "cell_type": "code",
   "execution_count": 6,
   "metadata": {},
   "outputs": [
    {
     "name": "stdout",
     "output_type": "stream",
     "text": [
      "Lookalike model results saved as RuhulFatimaAbdi_Lookalike.csv!\n"
     ]
    }
   ],
   "source": [
    "\n",
    "lookalike_df = pd.DataFrame([\n",
    "    {\"CustomerID\": cust, \"Lookalike1\": top[0][0], \"Similarity1\": top[0][1], \n",
    "     \"Lookalike2\": top[1][0], \"Similarity2\": top[1][1], \n",
    "     \"Lookalike3\": top[2][0], \"Similarity3\": top[2][1]}\n",
    "    for cust, top in lookalike_results.items()\n",
    "])\n",
    "\n",
    "lookalike_df.to_csv(\"RuhulFatimaAbdi_Lookalike.csv\", index=False)\n",
    "print(\"Lookalike model results saved as RuhulFatimaAbdi_Lookalike.csv!\")\n"
   ]
  }
 ],
 "metadata": {
  "kernelspec": {
   "display_name": "Python 3",
   "language": "python",
   "name": "python3"
  },
  "language_info": {
   "codemirror_mode": {
    "name": "ipython",
    "version": 3
   },
   "file_extension": ".py",
   "mimetype": "text/x-python",
   "name": "python",
   "nbconvert_exporter": "python",
   "pygments_lexer": "ipython3",
   "version": "3.12.4"
  }
 },
 "nbformat": 4,
 "nbformat_minor": 2
}
